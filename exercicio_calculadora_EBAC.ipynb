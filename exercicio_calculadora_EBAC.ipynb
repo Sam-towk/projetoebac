{
 "cells": [
  {
   "cell_type": "markdown",
   "metadata": {},
   "source": [
    "# Calculadora"
   ]
  },
  {
   "cell_type": "code",
   "execution_count": 1,
   "metadata": {},
   "outputs": [
    {
     "name": "stdout",
     "output_type": "stream",
     "text": [
      "Escolha uma das operações a seguir:\n",
      "1. Adição\n",
      "2. Subtração\n",
      "3. Multiplicação\n",
      "4. Divisão\n",
      "5. Potenciação\n",
      "Escolha uma das operações a seguir:\n",
      "5.0\n"
     ]
    }
   ],
   "source": [
    "#Calculadora com loop\n",
    "while True:\n",
    "  num1=float(input('Digite aqui seu o primeiro número'))\n",
    "  num2=float(input('Digite aqui o segundo número'))\n",
    "  \n",
    "  #Define as opções para escolha do operador\n",
    "\n",
    " \n",
    "  print('Escolha uma das operações a seguir:')\n",
    "  print('1. Adição')\n",
    "  print('2. Subtração')\n",
    "  print('3. Multiplicação')\n",
    "  print('4. Divisão')\n",
    "  print('5. Potenciação')\n",
    "        \n",
    "  print('Escolha uma das operações a seguir:')\n",
    "  escolha=int(input('Digite aqui sua opção'))\n",
    "\n",
    "#Define as opções baseadas na escolha\n",
    "    \n",
    "  def calculo(escolha, num1, num2):\n",
    "        if escolha==1:\n",
    "            return num1 + num2\n",
    "        elif escolha==2:\n",
    "            return num1 - num2\n",
    "        elif escolha==3:\n",
    "            return num1 * num2\n",
    "        elif escolha==4:\n",
    "            if num2>num1:\n",
    "                return num2/num1\n",
    "            elif num1>num2:\n",
    "                return num1/num2\n",
    "        elif escolha==5:\n",
    "            return num1**num2\n",
    "  resultado=calculo(escolha, num1, num2)\n",
    "  print(resultado)\n",
    "\n",
    "\n",
    "#Definição para se o loop vai continuar ou vai voltar do inicio\n",
    "\n",
    "\n",
    "  resposta=input('Deseja fazer outro calculo? (S/N)')\n",
    "  if resposta.lower() != 's':\n",
    "        print('Obrigado por usar a calculadora')\n",
    "        break"
   ]
  }
 ],
 "metadata": {
  "kernelspec": {
   "display_name": "base",
   "language": "python",
   "name": "python3"
  },
  "language_info": {
   "codemirror_mode": {
    "name": "ipython",
    "version": 3
   },
   "file_extension": ".py",
   "mimetype": "text/x-python",
   "name": "python",
   "nbconvert_exporter": "python",
   "pygments_lexer": "ipython3",
   "version": "3.12.4"
  }
 },
 "nbformat": 4,
 "nbformat_minor": 2
}
